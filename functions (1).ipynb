{
  "nbformat": 4,
  "nbformat_minor": 0,
  "metadata": {
    "colab": {
      "provenance": []
    },
    "kernelspec": {
      "name": "python3",
      "display_name": "Python 3"
    },
    "language_info": {
      "name": "python"
    }
  },
  "cells": [
    {
      "cell_type": "markdown",
      "source": [
        "\n",
        "1.\tWhat is the difference between a function and a method in Python?\n",
        "functions and methods are blocks of reusable code designed to perform specific tasks A function is a block of code that is defined independently, not within a class while a method is a function that is defined within a class and is associated with an object.\n",
        "2.\tExplain the concept of function arguments and parameters in Python.\n",
        "Function parameters are used or declare when we are creating a function while function arguments are pass when we are calling a function.\n",
        "3.\tWhat are the different ways to define and call a function in Python?\n",
        "Function is declared using the 'def' keyword followed by the function name and parentheses containing any parameters the function may take.  Functions can be called in two ways: Call by Value or Call by Reference.\n",
        "4.\tWhat is the purpose of the `return` statement in a Python function?\n",
        "Return keyword is used to come out of a function and give output or a value when the function is called.\n",
        "5.\t What are iterators in Python and how do they differ from iterables?\n",
        "An Iterables is basically an object that any user can iterate over. An Iterator is also an object that helps a user in iterating over another object\n",
        "6.\tExplain the concept of generators in Python and how they are defined.\n",
        "Generator is a special type of iterator that allows you to create sequences of values on demand, rather than storing the entire sequence in memory at once. This is achieved using the yield keyword within a function.\n",
        "7.\tWhat are the advantages of using generators over regular functions?\n",
        "generator does not return its results all at once. Instead, it yields its values one by one, each time it is called. This makes it possible to generate an infinite sequence of values while in regular functions it is not possible.\n",
        "8.\tWhat is a lambda function in Python and when is it typically used?\n",
        "Lambda function are used to generate a function in one line or in small amount of line rather than using the entire def keyword for using it is and anonyms function Lambda functions are typically used for short, simple operations and are often passed as arguments to higher-order functions like map, filter, or sorted.\n",
        "\n",
        "9  Explain the purpose and usage of the `map () ` function in Python.?\n",
        "Map function is used to generate the output from a derived input it can be a string, list, tuple and will generate the data relatively with the input and usage of for loops gets terminated.\n",
        "\n",
        "\n",
        "10.\t What is the difference between `map () `, `reduce () `, and `filter () ` functions in Python?\n",
        "Map takes a function and applies it to every item in a list or other data structure. It gives back the new results one by one. Filter goes through each item in a list or other data structure and keeps only the ones that pass the given condition while in reduce uses a function to combine all the items in a list or other data structure into one single value.\n",
        "\n",
        "\n",
        "11 Using pen & Paper write the internal mechanism for sum operation using reduce function on this given list: [47,11,42,13];\n",
        "from functools import reduce\n",
        "lst1= [47,11,42,13]\n",
        "sum_lst1=reduce (lambda x, y:x+y, lst1)\n",
        "print(sum_lst1)\n",
        "\n",
        "'''\n",
        "In this example reduce (lambda x,y=x+y,lst1)\n",
        "Initial numbers x: 1 and y:2\n",
        "x, y:1+2 results in 3. x becomes 3.\n",
        "x, y:3+3 results in 6. x becomes 6.\n",
        "x, y:6+4 results in 10. x becomes 10.\n",
        "x, y:10+5 results in 15. x becomes 15.\n",
        "All elements processed. 15 is returned.\n",
        "'''\n",
        "\n",
        "\n",
        "\n",
        "\n"
      ],
      "metadata": {
        "id": "LGQ0OTQu_zzN"
      }
    },
    {
      "cell_type": "code",
      "execution_count": 1,
      "metadata": {
        "colab": {
          "base_uri": "https://localhost:8080/"
        },
        "id": "06nKeyzy_yqr",
        "outputId": "c807aa84-7980-4e3e-c132-29fe45c08ed1"
      },
      "outputs": [
        {
          "output_type": "stream",
          "name": "stdout",
          "text": [
            "300\n"
          ]
        }
      ],
      "source": [
        "# 1. Write a Python function that takes a list of numbers as input and returns the sum of all even numbers in the list.\n",
        "def summ_add(lst1):\n",
        "  total=0\n",
        "  for i in lst1:\n",
        "    if i % 2 ==0:\n",
        "      total=total+i\n",
        "  return total\n",
        "\n",
        "\n",
        "\n",
        "\n",
        "lst1=[1,20,3,40,5,60,7,80,9,100]\n",
        "result=summ_add(lst1)\n",
        "print(result)"
      ]
    },
    {
      "cell_type": "code",
      "source": [
        "# 2. Create a Python function that accepts a string and returns the reverse of that string.\n",
        "def rev_str(n):\n",
        "  subho =str(n)\n",
        "  incr=subho[::-1]\n",
        "  return incr\n",
        "n=\"gangar\"\n",
        "result=rev_str(n)\n",
        "print(result)"
      ],
      "metadata": {
        "colab": {
          "base_uri": "https://localhost:8080/"
        },
        "id": "iTweXbD4BBov",
        "outputId": "2e57f5de-29f6-4b49-caed-e0053dd70297"
      },
      "execution_count": 2,
      "outputs": [
        {
          "output_type": "stream",
          "name": "stdout",
          "text": [
            "ragnag\n"
          ]
        }
      ]
    },
    {
      "cell_type": "code",
      "source": [
        "# 3. Implement a Python function that takes a list of integers and returns a new list containing the squares of each number.\n",
        "def sq_list(lst1):\n",
        "  lst2=[]\n",
        "  for i in lst1:\n",
        "    store=i**2\n",
        "    lst2.append(store)\n",
        "  return lst2\n",
        "\n",
        "\n",
        "\n",
        "lst1=[1,2,3,4,5,6]\n",
        "result=sq_list(lst1)\n",
        "print(result)"
      ],
      "metadata": {
        "colab": {
          "base_uri": "https://localhost:8080/"
        },
        "id": "5MAlMdP4BKSD",
        "outputId": "1aa264e6-9b93-4592-ec83-16c10b5cf1f0"
      },
      "execution_count": 3,
      "outputs": [
        {
          "output_type": "stream",
          "name": "stdout",
          "text": [
            "[1, 4, 9, 16, 25, 36]\n"
          ]
        }
      ]
    },
    {
      "cell_type": "code",
      "source": [
        "# 4. Write a Python function that checks if a given number is prime or not from 1 to 200.\n",
        "def prime_check(n):\n",
        "  if n<=2:\n",
        "    return n\n",
        "  else:\n",
        "    for i in range(2,int(n**0.5)+1):\n",
        "      if n%i==0:\n",
        "        return False\n",
        "    return True\n",
        "\n",
        "for n in range(1,201):\n",
        "  result=prime_check(n)\n",
        "  if result is False:\n",
        "    print(str(n) + \" not a prime no\")\n",
        "  else:\n",
        "    print(str(n) + \" is a prime no\")"
      ],
      "metadata": {
        "colab": {
          "base_uri": "https://localhost:8080/"
        },
        "id": "pd_AoRJtBOL_",
        "outputId": "8b12c831-4c7a-4429-8b4a-bb54b511cfcd"
      },
      "execution_count": 4,
      "outputs": [
        {
          "output_type": "stream",
          "name": "stdout",
          "text": [
            "1 is a prime no\n",
            "2 is a prime no\n",
            "3 is a prime no\n",
            "4 not a prime no\n",
            "5 is a prime no\n",
            "6 not a prime no\n",
            "7 is a prime no\n",
            "8 not a prime no\n",
            "9 not a prime no\n",
            "10 not a prime no\n",
            "11 is a prime no\n",
            "12 not a prime no\n",
            "13 is a prime no\n",
            "14 not a prime no\n",
            "15 not a prime no\n",
            "16 not a prime no\n",
            "17 is a prime no\n",
            "18 not a prime no\n",
            "19 is a prime no\n",
            "20 not a prime no\n",
            "21 not a prime no\n",
            "22 not a prime no\n",
            "23 is a prime no\n",
            "24 not a prime no\n",
            "25 not a prime no\n",
            "26 not a prime no\n",
            "27 not a prime no\n",
            "28 not a prime no\n",
            "29 is a prime no\n",
            "30 not a prime no\n",
            "31 is a prime no\n",
            "32 not a prime no\n",
            "33 not a prime no\n",
            "34 not a prime no\n",
            "35 not a prime no\n",
            "36 not a prime no\n",
            "37 is a prime no\n",
            "38 not a prime no\n",
            "39 not a prime no\n",
            "40 not a prime no\n",
            "41 is a prime no\n",
            "42 not a prime no\n",
            "43 is a prime no\n",
            "44 not a prime no\n",
            "45 not a prime no\n",
            "46 not a prime no\n",
            "47 is a prime no\n",
            "48 not a prime no\n",
            "49 not a prime no\n",
            "50 not a prime no\n",
            "51 not a prime no\n",
            "52 not a prime no\n",
            "53 is a prime no\n",
            "54 not a prime no\n",
            "55 not a prime no\n",
            "56 not a prime no\n",
            "57 not a prime no\n",
            "58 not a prime no\n",
            "59 is a prime no\n",
            "60 not a prime no\n",
            "61 is a prime no\n",
            "62 not a prime no\n",
            "63 not a prime no\n",
            "64 not a prime no\n",
            "65 not a prime no\n",
            "66 not a prime no\n",
            "67 is a prime no\n",
            "68 not a prime no\n",
            "69 not a prime no\n",
            "70 not a prime no\n",
            "71 is a prime no\n",
            "72 not a prime no\n",
            "73 is a prime no\n",
            "74 not a prime no\n",
            "75 not a prime no\n",
            "76 not a prime no\n",
            "77 not a prime no\n",
            "78 not a prime no\n",
            "79 is a prime no\n",
            "80 not a prime no\n",
            "81 not a prime no\n",
            "82 not a prime no\n",
            "83 is a prime no\n",
            "84 not a prime no\n",
            "85 not a prime no\n",
            "86 not a prime no\n",
            "87 not a prime no\n",
            "88 not a prime no\n",
            "89 is a prime no\n",
            "90 not a prime no\n",
            "91 not a prime no\n",
            "92 not a prime no\n",
            "93 not a prime no\n",
            "94 not a prime no\n",
            "95 not a prime no\n",
            "96 not a prime no\n",
            "97 is a prime no\n",
            "98 not a prime no\n",
            "99 not a prime no\n",
            "100 not a prime no\n",
            "101 is a prime no\n",
            "102 not a prime no\n",
            "103 is a prime no\n",
            "104 not a prime no\n",
            "105 not a prime no\n",
            "106 not a prime no\n",
            "107 is a prime no\n",
            "108 not a prime no\n",
            "109 is a prime no\n",
            "110 not a prime no\n",
            "111 not a prime no\n",
            "112 not a prime no\n",
            "113 is a prime no\n",
            "114 not a prime no\n",
            "115 not a prime no\n",
            "116 not a prime no\n",
            "117 not a prime no\n",
            "118 not a prime no\n",
            "119 not a prime no\n",
            "120 not a prime no\n",
            "121 not a prime no\n",
            "122 not a prime no\n",
            "123 not a prime no\n",
            "124 not a prime no\n",
            "125 not a prime no\n",
            "126 not a prime no\n",
            "127 is a prime no\n",
            "128 not a prime no\n",
            "129 not a prime no\n",
            "130 not a prime no\n",
            "131 is a prime no\n",
            "132 not a prime no\n",
            "133 not a prime no\n",
            "134 not a prime no\n",
            "135 not a prime no\n",
            "136 not a prime no\n",
            "137 is a prime no\n",
            "138 not a prime no\n",
            "139 is a prime no\n",
            "140 not a prime no\n",
            "141 not a prime no\n",
            "142 not a prime no\n",
            "143 not a prime no\n",
            "144 not a prime no\n",
            "145 not a prime no\n",
            "146 not a prime no\n",
            "147 not a prime no\n",
            "148 not a prime no\n",
            "149 is a prime no\n",
            "150 not a prime no\n",
            "151 is a prime no\n",
            "152 not a prime no\n",
            "153 not a prime no\n",
            "154 not a prime no\n",
            "155 not a prime no\n",
            "156 not a prime no\n",
            "157 is a prime no\n",
            "158 not a prime no\n",
            "159 not a prime no\n",
            "160 not a prime no\n",
            "161 not a prime no\n",
            "162 not a prime no\n",
            "163 is a prime no\n",
            "164 not a prime no\n",
            "165 not a prime no\n",
            "166 not a prime no\n",
            "167 is a prime no\n",
            "168 not a prime no\n",
            "169 not a prime no\n",
            "170 not a prime no\n",
            "171 not a prime no\n",
            "172 not a prime no\n",
            "173 is a prime no\n",
            "174 not a prime no\n",
            "175 not a prime no\n",
            "176 not a prime no\n",
            "177 not a prime no\n",
            "178 not a prime no\n",
            "179 is a prime no\n",
            "180 not a prime no\n",
            "181 is a prime no\n",
            "182 not a prime no\n",
            "183 not a prime no\n",
            "184 not a prime no\n",
            "185 not a prime no\n",
            "186 not a prime no\n",
            "187 not a prime no\n",
            "188 not a prime no\n",
            "189 not a prime no\n",
            "190 not a prime no\n",
            "191 is a prime no\n",
            "192 not a prime no\n",
            "193 is a prime no\n",
            "194 not a prime no\n",
            "195 not a prime no\n",
            "196 not a prime no\n",
            "197 is a prime no\n",
            "198 not a prime no\n",
            "199 is a prime no\n",
            "200 not a prime no\n"
          ]
        }
      ]
    },
    {
      "cell_type": "code",
      "source": [],
      "metadata": {
        "id": "sz5bYYVEBSOk"
      },
      "execution_count": null,
      "outputs": []
    },
    {
      "cell_type": "code",
      "source": [
        "# 5  Create an iterator class in Python that generates the Fibonacci sequence up to a specified number of\n",
        "terms.\n",
        "class FibonacciIterator:\n",
        "    def __init__(self, num_terms):\n",
        "        self.num_terms = num_terms\n",
        "        self.count = 0\n",
        "        self.a, self.b = 0, 1\n",
        "\n",
        "    def __iter__(self):\n",
        "        return self\n",
        "\n",
        "    def __next__(self):\n",
        "        if self.count >= self.num_terms:\n",
        "            raise StopIteration\n",
        "        if self.count == 0:\n",
        "            self.count += 1\n",
        "            return 0\n",
        "        elif self.count == 1:\n",
        "            self.count += 1\n",
        "            return 1\n",
        "        else:\n",
        "            self.a, self.b = self.b, self.a + self.b\n",
        "            self.count += 1\n",
        "            return self.a\n",
        "\n",
        "fib = FibonacciIterator(10)\n",
        "for num in fib:\n",
        "    print(num)"
      ],
      "metadata": {
        "colab": {
          "base_uri": "https://localhost:8080/"
        },
        "id": "k_LLMbiNBxUO",
        "outputId": "5b06ad62-48ed-4e53-8d99-6bc6239688b0"
      },
      "execution_count": 5,
      "outputs": [
        {
          "output_type": "stream",
          "name": "stdout",
          "text": [
            "0\n",
            "1\n",
            "1\n",
            "1\n",
            "2\n",
            "3\n",
            "5\n",
            "8\n",
            "13\n",
            "21\n"
          ]
        }
      ]
    },
    {
      "cell_type": "code",
      "source": [
        "# 6  Write a generator function in Python that yields the powers of 2 up to a given exponent.\n",
        "\n",
        "def powers_of_two(max_exponent):\n",
        "    for exponent in range(max_exponent + 1):\n",
        "        yield 2 ** exponent\n",
        "\n",
        "\n",
        "for value in powers_of_two(5):\n",
        "    print(value)"
      ],
      "metadata": {
        "colab": {
          "base_uri": "https://localhost:8080/"
        },
        "id": "AMOfDPpKB268",
        "outputId": "1302261b-ed67-4ee8-9543-e01d1369ddc4"
      },
      "execution_count": 6,
      "outputs": [
        {
          "output_type": "stream",
          "name": "stdout",
          "text": [
            "1\n",
            "2\n",
            "4\n",
            "8\n",
            "16\n",
            "32\n"
          ]
        }
      ]
    },
    {
      "cell_type": "code",
      "source": [],
      "metadata": {
        "id": "Rh_B-NvqCN4T"
      },
      "execution_count": 7,
      "outputs": []
    },
    {
      "cell_type": "code",
      "source": [
        "# 7. Implement a generator function that reads a file line by line and yields each line as a string.\n",
        "def read_file_line_by_line(file_path):\n",
        "    with open(file_path, 'r') as file:\n",
        "        for line in file:\n",
        "            yield line.rstrip('\\n')\n",
        "\n",
        "for line in read_file_line_by_line('example.txt'):\n",
        "    print(line)"
      ],
      "metadata": {
        "id": "GS-Rln9PCf1U"
      },
      "execution_count": null,
      "outputs": []
    },
    {
      "cell_type": "code",
      "source": [
        "#  8. Use a lambda function in Python to sort a list of tuples based on the second element of each tuple.\n",
        "data = [('apple', 5), ('banana', 2), ('cherry', 8), ('date', 1)]\n",
        "sorted_data = sorted(data, key=lambda x: x[1])\n",
        "print(sorted_data)"
      ],
      "metadata": {
        "colab": {
          "base_uri": "https://localhost:8080/"
        },
        "id": "EK4KQGLiC1cL",
        "outputId": "4da473ca-9500-48b5-dbaa-9e01aefb4717"
      },
      "execution_count": 8,
      "outputs": [
        {
          "output_type": "stream",
          "name": "stdout",
          "text": [
            "[('date', 1), ('banana', 2), ('apple', 5), ('cherry', 8)]\n"
          ]
        }
      ]
    },
    {
      "cell_type": "code",
      "source": [
        "# 9. Write a Python program that uses map() to convert a list of temperatures from Celsius to Fahrenheit.\n",
        "temperature=[30,40,30,45,34,45,20]\n",
        "\n",
        "temp=list(map(lambda x : int((x*1.8)+32),temperature))\n",
        "print(temp)"
      ],
      "metadata": {
        "colab": {
          "base_uri": "https://localhost:8080/"
        },
        "id": "DBX_ay9ZC8E0",
        "outputId": "66c88d9a-c3fc-476f-cad3-8d211022e3d4"
      },
      "execution_count": 9,
      "outputs": [
        {
          "output_type": "stream",
          "name": "stdout",
          "text": [
            "[86, 104, 86, 113, 93, 113, 68]\n"
          ]
        }
      ]
    },
    {
      "cell_type": "code",
      "source": [
        "# 10. Create a Python program that uses `filter()` to remove all the vowels from a given string.\n",
        "\n",
        "def remove_vowels(input_str):\n",
        "    vowels = 'aeiouAEIOU'\n",
        "    return ''.join(filter(lambda char: char not in vowels, input_str))\n",
        "\n",
        "text = \"Hello, this is a sample string.\"\n",
        "result = remove_vowels(text)\n",
        "print(\"Original:\", text)\n",
        "print(\"Without vowels:\", result)"
      ],
      "metadata": {
        "colab": {
          "base_uri": "https://localhost:8080/"
        },
        "id": "V_aHbOwGC-Jj",
        "outputId": "2ae62b89-16c5-41d0-ec7c-063ec07ba9df"
      },
      "execution_count": 10,
      "outputs": [
        {
          "output_type": "stream",
          "name": "stdout",
          "text": [
            "Original: Hello, this is a sample string.\n",
            "Without vowels: Hll, ths s  smpl strng.\n"
          ]
        }
      ]
    },
    {
      "cell_type": "code",
      "source": [
        "# 11 Imagine an accounting routine used in a book shop. It works on a list with sublists, which look like this:\n",
        "orders = [\n",
        "    [\"34587\", \"Learning Python, Mark Lutz\", 4, 40.95],\n",
        "    [\"98762\", \"Programming Python, Mark Lutz\", 5, 56.80],\n",
        "    [\"77226\", \"Head First Python, Paul Barry\", 3, 32.95],\n",
        "    [\"88112\", \"Einführung in Python3, Bernd Klein\", 3, 24.99]\n",
        "]\n",
        "\n",
        "result = list(map(\n",
        "    lambda order: (\n",
        "        order[0],\n",
        "        round(order[2] * order[3] + (10 if order[2] * order[3] < 100 else 0), 2)\n",
        "    ),\n",
        "    orders\n",
        "))\n",
        "\n",
        "print(result)"
      ],
      "metadata": {
        "colab": {
          "base_uri": "https://localhost:8080/"
        },
        "id": "TVsp6fLKDLu1",
        "outputId": "9b98a2bc-b0ab-4db6-b13b-0efa00885486"
      },
      "execution_count": 11,
      "outputs": [
        {
          "output_type": "stream",
          "name": "stdout",
          "text": [
            "[('34587', 163.8), ('98762', 284.0), ('77226', 108.85), ('88112', 84.97)]\n"
          ]
        }
      ]
    },
    {
      "cell_type": "code",
      "source": [],
      "metadata": {
        "id": "iccsV_SjDkzr"
      },
      "execution_count": null,
      "outputs": []
    }
  ]
}